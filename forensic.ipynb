{
 "cells": [
  {
   "cell_type": "markdown",
   "metadata": {},
   "source": [
    "# Forensic Science\n",
    "\n",
    "A forensic scientist is called to the scene of a murder. The temperature of the corpse is found to be $75$<sup>o</sup>F  and one hour later the temperature has dropped to $70$<sup>o</sup>F. If the temperature of the room in which the body was discovered is a constant $68$<sup>o</sup>F, how long before the first temperature reading was taken did the murder occur? Assume that the body obeys Newton's Law of Cooling,\n",
    "\n",
    "\\begin{equation*}\n",
    " \\frac{d T}{d t}=\\beta(T-T_R),\t\n",
    "\\end{equation*}\n",
    "\n",
    "where $T$ is the temperature of the corpse, $\\beta$ is a constant, and $T_R$ is room temperature. A normal body temperature for adults is generally around $98.6^{\\circ}\\text{F}$ ($37^{\\circ}\\text{C}$ )."
   ]
  },
  {
   "cell_type": "markdown",
   "metadata": {},
   "source": [
    "## Case 1\n",
    "+ Room temperature $68$<sup>o</sup>F\n",
    "+ First temperature reading $75$<sup>o</sup>F\n",
    "+ Second temperature reading $70$<sup>o</sup>F (one hour after the first reading)"
   ]
  },
  {
   "cell_type": "code",
   "execution_count": null,
   "metadata": {},
   "outputs": [],
   "source": [
    "import math\n",
    "\n",
    "#normal body temperature\n",
    "T0=98.6\n",
    "\n",
    "#\n",
    "tA=0;\n",
    "tB=1;\n",
    "\n",
    "dt=tA-tB\n",
    "\n",
    "#get temperature readings\n",
    "\n",
    "TR=float(input(\"Give the room temperature in degree Fahrenheit (68):\"))\n",
    "#print(\"TR=\",TR)\n",
    "\n",
    "TA=float(input(\"Give the first temperature reading in degree Fahrenheit (75):\"))\n",
    "#print(\"TA=\",TA)\n",
    "\n",
    "TB=float(input(\"Give the second temperature reading in degree Fahrenheit (70):\"))\n",
    "#print(\"TB=\",TB)\n",
    "\n",
    "#\n",
    "tA=dt*(math.log(TA-TR)-math.log(T0-TR))/(math.log(TA-TR)-math.log(TB-TR))\n",
    "\n",
    "print(\"The murder occurred %5.0f  minutes \\t before the first temperature reading was taken.\" %(tA*60))"
   ]
  },
  {
   "cell_type": "markdown",
   "metadata": {},
   "source": [
    "## Case 2\n",
    "+ Room temperature $60$<sup>o</sup>F\n",
    "+ First temperature reading $80$<sup>o</sup>F\n",
    "+ Second temperature reading $65$<sup>o</sup>F (one hour after the first reading)"
   ]
  },
  {
   "cell_type": "code",
   "execution_count": null,
   "metadata": {},
   "outputs": [],
   "source": [
    "import math\n",
    "\n",
    "#normal body temperature\n",
    "T0=98.6\n",
    "\n",
    "#\n",
    "tA=0;\n",
    "tB=1;\n",
    "\n",
    "dt=tA-tB\n",
    "\n",
    "#get temperature readings\n",
    "\n",
    "TR=float(input(\"Give the room temperature in degree Fahrenheit (60):\"))\n",
    "#print(\"TR=\",TR)\n",
    "\n",
    "TA=float(input(\"Give the first temperature reading in degree Fahrenheit (80):\"))\n",
    "#print(\"TA=\",TA)\n",
    "\n",
    "TB=float(input(\"Give the second temperature reading in degree Fahrenheit (65):\"))\n",
    "#print(\"TB=\",TB)\n",
    "\n",
    "#\n",
    "tA=dt*(math.log(TA-TR)-math.log(T0-TR))/(math.log(TA-TR)-math.log(TB-TR))\n",
    "\n",
    "print(\"The murder occurred %5.0f  minutes \\t before the first temperature reading was taken.\" %(tA*60))"
   ]
  },
  {
   "cell_type": "code",
   "execution_count": null,
   "metadata": {},
   "outputs": [],
   "source": []
  }
 ],
 "metadata": {
  "kernelspec": {
   "display_name": "Python 3 (ipykernel)",
   "language": "python",
   "name": "python3"
  },
  "language_info": {
   "codemirror_mode": {
    "name": "ipython",
    "version": 3
   },
   "file_extension": ".py",
   "mimetype": "text/x-python",
   "name": "python",
   "nbconvert_exporter": "python",
   "pygments_lexer": "ipython3",
   "version": "3.11.5"
  }
 },
 "nbformat": 4,
 "nbformat_minor": 4
}
