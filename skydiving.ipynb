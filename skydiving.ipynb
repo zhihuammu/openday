{
 "cells": [
  {
   "cell_type": "markdown",
   "id": "947efa6c-e805-4c6d-93f7-3e784c888442",
   "metadata": {},
   "source": [
    "# Skydiving\n",
    "\n",
    "<center><img style=\"float:center;transform: rotate(0deg); height:250px\" src=\"./ball.svg\"/></center>\n",
    "\n",
    "The motion of a free falling object with mass $m$ is given by\n",
    "\n",
    "\\begin{equation*}\n",
    "m \\frac{d v}{d t}  = m g - \\gamma v\n",
    "\\end{equation*}\n",
    "\n",
    "where $v$ is its speed, $g$ the gravitational acceleration, $\\gamma$ the air friction coefficient.\n",
    "\n",
    "Find $v(t)$ given that $m=0.025$ kg, $\\gamma=0.007$ kg/s, $g=9.8$ m/s $^2$  and $v(0)=0$ m/s."
   ]
  },
  {
   "cell_type": "code",
   "execution_count": null,
   "id": "0ebde1f3-0e0d-465b-9324-007c2f03c741",
   "metadata": {},
   "outputs": [],
   "source": [
    "import numpy as np\n",
    "import math\n",
    "import matplotlib.pyplot as plt\n",
    "from scipy.integrate import solve_ivp\n",
    "\n",
    "#plt.rcParams['text.usetex'] = True\n",
    "\n",
    "#define the physical quantities\n",
    "#mass \n",
    "m=0.025\n",
    "\n",
    "#air friction \n",
    "gamma=0.007\n",
    "\n",
    "#gravitional acceleration\n",
    "g=9.8\n",
    "\n",
    "def ode_drop(t, v):\n",
    "    return g-gamma*v/m\n",
    "\n",
    "def main():\n",
    "    \"\"\"Kinetics of a free drop object in air.\"\"\"\n",
    "    \n",
    "    #initial condition\n",
    "    v0=[0]\n",
    "    \n",
    "    t_span=[0, 40]\n",
    "    N_point=41\n",
    "    dt=t_span[1]/(N_point-1)*1.0\n",
    "    \n",
    "    t_point=np.zeros(N_point)\n",
    "    for i in range(N_point):\n",
    "        t_point[i]=i*dt;\n",
    "        \n",
    "    #analytical solution\n",
    "    ve=np.zeros(N_point)\n",
    "    for i in range(N_point):\n",
    "        ve[i]=m*g/gamma*(1-math.exp(-gamma/m*t_point[i]))\n",
    "    \n",
    "    #numerical solution\n",
    "    sol = solve_ivp(ode_drop, t_span, v0, t_eval=t_point)\n",
    "    \n",
    "    #plot solution\n",
    "    plt.figure(1)\n",
    "    plt.plot(sol.t, sol.y[0], 'ro',label=\"numerical\")\n",
    "    plt.plot(sol.t, sol.y[0], 'b-',label=\"analytical\")\n",
    "    plt.xlabel('t (s)', fontsize=16)\n",
    "    plt.ylabel('v (m/s)' , fontsize=16)\n",
    "    plt.legend(loc=\"right\")\n",
    "    plt.title(\"Velocity of a free dropping object\")\n",
    "\n",
    "if __name__ == '__main__':\n",
    "    main()"
   ]
  },
  {
   "cell_type": "code",
   "execution_count": null,
   "id": "54a9077c-131f-4e15-b24a-d623fd13ee50",
   "metadata": {},
   "outputs": [],
   "source": []
  }
 ],
 "metadata": {
  "kernelspec": {
   "display_name": "Python 3 (ipykernel)",
   "language": "python",
   "name": "python3"
  },
  "language_info": {
   "codemirror_mode": {
    "name": "ipython",
    "version": 3
   },
   "file_extension": ".py",
   "mimetype": "text/x-python",
   "name": "python",
   "nbconvert_exporter": "python",
   "pygments_lexer": "ipython3",
   "version": "3.11.5"
  }
 },
 "nbformat": 4,
 "nbformat_minor": 5
}
